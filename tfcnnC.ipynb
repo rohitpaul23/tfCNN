{
  "nbformat": 4,
  "nbformat_minor": 0,
  "metadata": {
    "colab": {
      "provenance": [],
      "toc_visible": true
    },
    "kernelspec": {
      "name": "python3",
      "display_name": "Python 3"
    },
    "language_info": {
      "name": "python"
    },
    "accelerator": "GPU",
    "gpuClass": "standard"
  },
  "cells": [
    {
      "cell_type": "markdown",
      "source": [
        "##Using CNN's to classify Cats vs Dogs Dataset"
      ],
      "metadata": {
        "id": "j8WGUAxu6eSc"
      }
    },
    {
      "cell_type": "markdown",
      "source": [
        "Creating a model to classify cat vs dog image datasets and look into how data augmentation can help improve the model.\n",
        "\n",
        "Outline:\n",
        "1. Get Data\n",
        "2. Process Data\n",
        "3. Defining and Training the Model\n",
        "4. Tackle Overfitting with Data Augmentation"
      ],
      "metadata": {
        "id": "yqjOB3KZWj8Z"
      }
    },
    {
      "cell_type": "code",
      "execution_count": null,
      "metadata": {
        "id": "vBYNaIgX53Wl"
      },
      "outputs": [],
      "source": [
        "import os\n",
        "import zipfile\n",
        "import random\n",
        "import shutil\n",
        "import tensorflow as tf\n",
        "from tensorflow.keras.preprocessing.image import ImageDataGenerator\n",
        "from shutil import copyfile\n",
        "import matplotlib.pyplot as plt\n",
        "from tensorflow.keras import optimizers, losses"
      ]
    },
    {
      "cell_type": "markdown",
      "source": [
        "### Get Data"
      ],
      "metadata": {
        "id": "BSqk44zBVJle"
      }
    },
    {
      "cell_type": "code",
      "source": [
        "!wget --no-check-certificate \\\n",
        "    \"https://download.microsoft.com/download/3/E/1/3E1C3F21-ECDB-4869-8368-6DEBA77B919F/kagglecatsanddogs_5340.zip\" \\\n",
        "    -O \"/tmp/cats-and-dogs.zip\"\n",
        "\n",
        "local_zip = '/tmp/cats-and-dogs.zip'\n",
        "zip_ref   = zipfile.ZipFile(local_zip, 'r')\n",
        "zip_ref.extractall('/tmp')\n",
        "zip_ref.close()"
      ],
      "metadata": {
        "colab": {
          "base_uri": "https://localhost:8080/"
        },
        "id": "bnuBaPOu6klB",
        "outputId": "b344da1c-881d-46ff-80af-da3040186cf5"
      },
      "execution_count": null,
      "outputs": [
        {
          "output_type": "stream",
          "name": "stdout",
          "text": [
            "--2023-01-27 14:29:12--  https://download.microsoft.com/download/3/E/1/3E1C3F21-ECDB-4869-8368-6DEBA77B919F/kagglecatsanddogs_5340.zip\n",
            "Resolving download.microsoft.com (download.microsoft.com)... 104.97.45.22, 2600:1409:9800:98c::317f, 2600:1409:9800:984::317f\n",
            "Connecting to download.microsoft.com (download.microsoft.com)|104.97.45.22|:443... connected.\n",
            "HTTP request sent, awaiting response... 200 OK\n",
            "Length: 824887076 (787M) [application/octet-stream]\n",
            "Saving to: ‘/tmp/cats-and-dogs.zip’\n",
            "\n",
            "/tmp/cats-and-dogs. 100%[===================>] 786.67M   246MB/s    in 3.3s    \n",
            "\n",
            "2023-01-27 14:29:15 (237 MB/s) - ‘/tmp/cats-and-dogs.zip’ saved [824887076/824887076]\n",
            "\n"
          ]
        }
      ]
    },
    {
      "cell_type": "code",
      "source": [
        "source_path = '/tmp/PetImages'\n",
        "\n",
        "source_path_dogs = os.path.join(source_path, 'Dog')\n",
        "source_path_cats = os.path.join(source_path, 'Cat')\n",
        "\n",
        "# Deletes all non-image files (there are two .db files bundled into the dataset)\n",
        "!find /tmp/PetImages/ -type f ! -name \"*.jpg\" -exec rm {} +\n",
        "\n",
        "# os.listdir returns a list containing all files under the given path\n",
        "print(f\"There are {len(os.listdir(source_path_dogs))} images of dogs.\")\n",
        "print(f\"There are {len(os.listdir(source_path_cats))} images of cats.\")"
      ],
      "metadata": {
        "colab": {
          "base_uri": "https://localhost:8080/"
        },
        "id": "QGi59X3G63XG",
        "outputId": "e4e23022-6fec-4379-c375-bf71d4e7527b"
      },
      "execution_count": null,
      "outputs": [
        {
          "output_type": "stream",
          "name": "stdout",
          "text": [
            "There are 12500 images of dogs.\n",
            "There are 12500 images of cats.\n"
          ]
        }
      ]
    },
    {
      "cell_type": "code",
      "source": [
        "source_path_cats"
      ],
      "metadata": {
        "colab": {
          "base_uri": "https://localhost:8080/",
          "height": 36
        },
        "id": "an4SPNDx7Ay9",
        "outputId": "530e97ae-2078-49b1-d590-7fbec6b3f327"
      },
      "execution_count": null,
      "outputs": [
        {
          "output_type": "execute_result",
          "data": {
            "text/plain": [
              "'/tmp/PetImages/Cat'"
            ],
            "application/vnd.google.colaboratory.intrinsic+json": {
              "type": "string"
            }
          },
          "metadata": {},
          "execution_count": 4
        }
      ]
    },
    {
      "cell_type": "code",
      "source": [
        "# Define root directory\n",
        "root_dir = '/tmp/cats-v-dogs'\n",
        "\n",
        "# Empty directory to prevent FileExistsError is the function is run several times\n",
        "if os.path.exists(root_dir):\n",
        "  shutil.rmtree(root_dir)\n",
        "\n",
        "#create_train_val_dirs\n",
        "def create_train_val_dirs(root_path):\n",
        "  \"\"\"\n",
        "  Creates directories for the train and test sets\n",
        "  \n",
        "  Args:\n",
        "    root_path (string) - the base directory path to create subdirectories from\n",
        "  \n",
        "  Returns:\n",
        "    None\n",
        "  \"\"\"  \n",
        "\n",
        "  paths = []\n",
        "  paths.append(os.path.join(root_path, 'training'))\n",
        "  os.makedirs(paths[0])\n",
        "  paths.append(os.path.join(root_path, 'validation'))\n",
        "  os.makedirs(paths[1])\n",
        "\n",
        "  subfiles = ['cats', 'dogs']\n",
        "  for path in paths:\n",
        "    for afile in subfiles:\n",
        "      pathname = os.path.join(path, afile)\n",
        "      os.makedirs(pathname)\n",
        "  \n",
        "create_train_val_dirs(root_path=root_dir)"
      ],
      "metadata": {
        "id": "XbEozU1D7zSc"
      },
      "execution_count": null,
      "outputs": []
    },
    {
      "cell_type": "code",
      "source": [
        "# Test our create_train_val_dirs function\n",
        "\n",
        "for rootdir, dirs, files in os.walk(root_dir):\n",
        "    for subdir in dirs:\n",
        "        print(os.path.join(rootdir, subdir))"
      ],
      "metadata": {
        "colab": {
          "base_uri": "https://localhost:8080/"
        },
        "id": "zeLN-k659usZ",
        "outputId": "d085ddfb-870b-48e8-f69c-8e3efec5bab1"
      },
      "execution_count": null,
      "outputs": [
        {
          "output_type": "stream",
          "name": "stdout",
          "text": [
            "/tmp/cats-v-dogs/validation\n",
            "/tmp/cats-v-dogs/training\n",
            "/tmp/cats-v-dogs/validation/cats\n",
            "/tmp/cats-v-dogs/validation/dogs\n",
            "/tmp/cats-v-dogs/training/cats\n",
            "/tmp/cats-v-dogs/training/dogs\n"
          ]
        }
      ]
    },
    {
      "cell_type": "markdown",
      "source": [
        "Now have to code the split_data function which takes in the following arguments:\n",
        "\n",
        "* SOURCE_DIR: directory containing the files\n",
        "\n",
        "* TRAINING_DIR: directory that a portion of the files will be copied to (will be used for training)\n",
        "\n",
        "* VALIDATION_DIR: directory that a portion of the files will be copied to (will be used for validation)\n",
        "\n",
        "* SPLIT_SIZE: determines the portion of images used for training.\n",
        "\n",
        "The files should be randomized, so that the training set is a random sample of the files, and the validation set is made up of the remaining files.\n",
        "\n",
        "For example, if SOURCE_DIR is PetImages/Cat, and SPLIT_SIZE is .9 then 90% of the images in PetImages/Cat will be copied to the TRAINING_DIR directory and 10% of the images will be copied to the VALIDATION_DIR directory.\n",
        "\n",
        "**NOTE**: All images should be checked before the copy, so if they have a zero file length, they will be omitted from the copying process. If this is the case then our function should print out a message such as \"filename is zero length, so ignoring.\". We should perform this check before the split so that only non-zero images are considered when doing the actual split.\n"
      ],
      "metadata": {
        "id": "1RXIljbo_vu7"
      }
    },
    {
      "cell_type": "code",
      "source": [
        "os.path.getsize(os.path.join(source_path_cats, os.listdir(source_path_cats)[0]))"
      ],
      "metadata": {
        "colab": {
          "base_uri": "https://localhost:8080/"
        },
        "id": "HBZHkyTGDTRO",
        "outputId": "4af93777-c347-46c3-f036-b27c9313cac6"
      },
      "execution_count": null,
      "outputs": [
        {
          "output_type": "execute_result",
          "data": {
            "text/plain": [
              "24374"
            ]
          },
          "metadata": {},
          "execution_count": 7
        }
      ]
    },
    {
      "cell_type": "markdown",
      "source": [
        "###Process Data"
      ],
      "metadata": {
        "id": "ls9P3XDDVP8L"
      }
    },
    {
      "cell_type": "code",
      "source": [
        "def split_data(SOURCE_DIR, TRAINING_DIR, VALIDATION_DIR, SPLIT_SIZE):\n",
        "  \"\"\"\n",
        "  Splits the data into train and test sets\n",
        "  \n",
        "  Args:\n",
        "    SOURCE_DIR (string): directory path containing the images\n",
        "    TRAINING_DIR (string): directory path to be used for training\n",
        "    VALIDATION_DIR (string): directory path to be used for validation\n",
        "    SPLIT_SIZE (float): proportion of the dataset to be used for training\n",
        "    \n",
        "  Returns:\n",
        "    None\n",
        "  \"\"\"\n",
        "\n",
        "  fileList = os.listdir(SOURCE_DIR)\n",
        "\n",
        "  #Omitting file with zero length\n",
        "  newFileList = []\n",
        "  for afile in fileList:\n",
        "    if os.path.getsize(os.path.join(SOURCE_DIR, afile)):\n",
        "      newFileList.append(afile)\n",
        "    else:\n",
        "      print(f'{afile} is zero length, so ignoring.')\n",
        "\n",
        "  #Randomizing file\n",
        "  random.sample(newFileList, len(newFileList))\n",
        "\n",
        "  #splitting the file\n",
        "  mid = int(len(newFileList)*SPLIT_SIZE)\n",
        "\n",
        "  #copying the file \n",
        "  for i, afile in enumerate(newFileList):\n",
        "    if i < mid: \n",
        "      copyfile(os.path.join(SOURCE_DIR, afile), os.path.join(TRAINING_DIR, afile))\n",
        "    else:\n",
        "      copyfile(os.path.join(SOURCE_DIR, afile), os.path.join(VALIDATION_DIR, afile))\n"
      ],
      "metadata": {
        "id": "NT1sUkMiAIql"
      },
      "execution_count": null,
      "outputs": []
    },
    {
      "cell_type": "code",
      "source": [
        "# Define paths\n",
        "CAT_SOURCE_DIR = \"/tmp/PetImages/Cat/\"\n",
        "DOG_SOURCE_DIR = \"/tmp/PetImages/Dog/\"\n",
        "\n",
        "TRAINING_DIR = \"/tmp/cats-v-dogs/training/\"\n",
        "VALIDATION_DIR = \"/tmp/cats-v-dogs/validation/\"\n",
        "\n",
        "TRAINING_CATS_DIR = os.path.join(TRAINING_DIR, \"cats/\")\n",
        "VALIDATION_CATS_DIR = os.path.join(VALIDATION_DIR, \"cats/\")\n",
        "\n",
        "TRAINING_DOGS_DIR = os.path.join(TRAINING_DIR, \"dogs/\")\n",
        "VALIDATION_DOGS_DIR = os.path.join(VALIDATION_DIR, \"dogs/\")\n",
        "\n",
        "# Empty directories in case you run this cell multiple times\n",
        "if len(os.listdir(TRAINING_CATS_DIR)) > 0:\n",
        "  for file in os.scandir(TRAINING_CATS_DIR):\n",
        "    os.remove(file.path)\n",
        "if len(os.listdir(TRAINING_DOGS_DIR)) > 0:\n",
        "  for file in os.scandir(TRAINING_DOGS_DIR):\n",
        "    os.remove(file.path)\n",
        "if len(os.listdir(VALIDATION_CATS_DIR)) > 0:\n",
        "  for file in os.scandir(VALIDATION_CATS_DIR):\n",
        "    os.remove(file.path)\n",
        "if len(os.listdir(VALIDATION_DOGS_DIR)) > 0:\n",
        "  for file in os.scandir(VALIDATION_DOGS_DIR):\n",
        "    os.remove(file.path)\n",
        "\n",
        "# Define proportion of images used for training\n",
        "split_size = .9\n",
        "\n",
        "# Run the function\n",
        "# NOTE: Messages about zero length images should be printed out\n",
        "split_data(CAT_SOURCE_DIR, TRAINING_CATS_DIR, VALIDATION_CATS_DIR, split_size)\n",
        "split_data(DOG_SOURCE_DIR, TRAINING_DOGS_DIR, VALIDATION_DOGS_DIR, split_size)\n",
        "\n",
        "# Check that the number of images matches the expected output\n",
        "\n",
        "# Your function should perform copies rather than moving images so original directories should contain unchanged images\n",
        "print(f\"\\n\\nOriginal cat's directory has {len(os.listdir(CAT_SOURCE_DIR))} images\")\n",
        "print(f\"Original dog's directory has {len(os.listdir(DOG_SOURCE_DIR))} images\\n\")\n",
        "\n",
        "# Training and validation splits\n",
        "print(f\"There are {len(os.listdir(TRAINING_CATS_DIR))} images of cats for training\")\n",
        "print(f\"There are {len(os.listdir(TRAINING_DOGS_DIR))} images of dogs for training\")\n",
        "print(f\"There are {len(os.listdir(VALIDATION_CATS_DIR))} images of cats for validation\")\n",
        "print(f\"There are {len(os.listdir(VALIDATION_DOGS_DIR))} images of dogs for validation\")"
      ],
      "metadata": {
        "colab": {
          "base_uri": "https://localhost:8080/"
        },
        "id": "LCc11DRnI4A3",
        "outputId": "ddfab8ab-150c-4d43-a13f-efa2be9e080f"
      },
      "execution_count": null,
      "outputs": [
        {
          "output_type": "stream",
          "name": "stdout",
          "text": [
            "666.jpg is zero length, so ignoring.\n",
            "11702.jpg is zero length, so ignoring.\n",
            "\n",
            "\n",
            "Original cat's directory has 12500 images\n",
            "Original dog's directory has 12500 images\n",
            "\n",
            "There are 11249 images of cats for training\n",
            "There are 11249 images of dogs for training\n",
            "There are 1250 images of cats for validation\n",
            "There are 1250 images of dogs for validation\n"
          ]
        }
      ]
    },
    {
      "cell_type": "markdown",
      "source": [
        "Now that we have successfully organized the data in a way that can be easily fed to Keras' ImageDataGenerator, it is time for us to code the generators that will yield batches of images, both for training and validation. For this, will use train_val_generators function below.\n",
        "\n",
        "**NOTE**: The images in this dataset come in a variety of resolutions. Luckily, the flow_from_directory method allows us to standarize this by defining a tuple called target_size that will be used to convert each image to this target resolution. For this exercise, we use a target_size of (150, 150).\n"
      ],
      "metadata": {
        "id": "qLwb55bXJnSU"
      }
    },
    {
      "cell_type": "code",
      "source": [
        "def train_val_generators(TRAINING_DIR, VALIDATION_DIR):\n",
        "  \"\"\"\n",
        "  Creates the training and validation data generators\n",
        "  \n",
        "  Args:\n",
        "    TRAINING_DIR (string): directory path containing the training images\n",
        "    VALIDATION_DIR (string): directory path containing the testing/validation images\n",
        "    \n",
        "  Returns:\n",
        "    train_generator, validation_generator - tuple containing the generators\n",
        "  \"\"\"\n",
        "  # Instantiate the ImageDataGenerator class\n",
        "  train_datagen = ImageDataGenerator(rescale=1/255)\n",
        "\n",
        "  # Pass in the appropiate arguments to the flow_from_directory method\n",
        "  train_generator = train_datagen.flow_from_directory(directory=TRAINING_DIR,\n",
        "                                                      batch_size=32,\n",
        "                                                      class_mode='binary',\n",
        "                                                      target_size=(150, 150))\n",
        "\n",
        "  # Instantiate the ImageDataGenerator class \n",
        "  validation_datagen = ImageDataGenerator(rescale=1/255)\n",
        "\n",
        "  # Pass in the appropiate arguments to the flow_from_directory method\n",
        "  validation_generator = validation_datagen.flow_from_directory(directory=VALIDATION_DIR,\n",
        "                                                                batch_size=16,\n",
        "                                                                class_mode='binary',\n",
        "                                                                target_size=(150, 150))\n",
        "  \n",
        "  return train_generator, validation_generator"
      ],
      "metadata": {
        "id": "ufTWDnH4KFoN"
      },
      "execution_count": null,
      "outputs": []
    },
    {
      "cell_type": "code",
      "source": [
        "train_generator, validation_generator = train_val_generators(TRAINING_DIR, VALIDATION_DIR)"
      ],
      "metadata": {
        "colab": {
          "base_uri": "https://localhost:8080/"
        },
        "id": "RUt1m_syZWRa",
        "outputId": "88574b17-05b9-4e7e-ac7c-649b08f4d3b3"
      },
      "execution_count": null,
      "outputs": [
        {
          "output_type": "stream",
          "name": "stdout",
          "text": [
            "Found 22498 images belonging to 2 classes.\n",
            "Found 2500 images belonging to 2 classes.\n"
          ]
        }
      ]
    },
    {
      "cell_type": "markdown",
      "source": [
        "### Defining and Training the Model\n",
        "\n",
        "One last step before training is to define the architecture of the model that will be trained.\n",
        "\n",
        "**create_model** function below will return the desired Keras' Sequential model.\n",
        ".\n"
      ],
      "metadata": {
        "id": "w6Fvd1nMWDE0"
      }
    },
    {
      "cell_type": "code",
      "source": [
        "def create_model():\n",
        "\n",
        "  model = tf.keras.models.Sequential([ \n",
        "        #Add convolutional and max pooling\n",
        "        tf.keras.layers.Conv2D(32, (3, 3), activation='relu', input_shape=(150, 150, 3)),\n",
        "        tf.keras.layers.MaxPooling2D(2, 2),\n",
        "\n",
        "        #Add convolutional and max pooling\n",
        "        tf.keras.layers.Conv2D(64, (3, 3), activation='relu'),\n",
        "        tf.keras.layers.MaxPooling2D(2, 2),\n",
        "\n",
        "        #Add convolutional and max pooling\n",
        "        tf.keras.layers.Conv2D(64, (3, 3), activation='relu'),\n",
        "        tf.keras.layers.MaxPooling2D(2, 2),\n",
        "\n",
        "        #Add the dense layers\n",
        "        tf.keras.layers.Flatten(),\n",
        "        tf.keras.layers.Dense(512, activation='relu'),\n",
        "        tf.keras.layers.Dense(1, activation='sigmoid')\n",
        "  ])\n",
        "\n",
        "  \n",
        "  model.compile(loss='binary_crossentropy',\n",
        "                optimizer=optimizers.RMSprop(learning_rate=0.001),\n",
        "                metrics=['accuracy']) \n",
        "    \n",
        "  return model"
      ],
      "metadata": {
        "id": "yJcnIWW4WCKm"
      },
      "execution_count": null,
      "outputs": []
    },
    {
      "cell_type": "code",
      "source": [
        "# Get the untrained model\n",
        "model = create_model()\n",
        "\n",
        "# Train the model\n",
        "history = model.fit(train_generator,\n",
        "                    epochs=15,\n",
        "                    verbose=1,\n",
        "                    validation_data=validation_generator)\n"
      ],
      "metadata": {
        "colab": {
          "base_uri": "https://localhost:8080/"
        },
        "id": "yKUN_LR3Xzpc",
        "outputId": "1282754e-9c4f-4361-9ade-1cdaf5eecaba"
      },
      "execution_count": null,
      "outputs": [
        {
          "output_type": "stream",
          "name": "stdout",
          "text": [
            "Epoch 1/15\n",
            "480/704 [===================>..........] - ETA: 22s - loss: 0.6862 - accuracy: 0.6086"
          ]
        },
        {
          "output_type": "stream",
          "name": "stderr",
          "text": [
            "/usr/local/lib/python3.8/dist-packages/PIL/TiffImagePlugin.py:767: UserWarning: Possibly corrupt EXIF data.  Expecting to read 32 bytes but only got 0. Skipping tag 270\n",
            "  warnings.warn(\n",
            "/usr/local/lib/python3.8/dist-packages/PIL/TiffImagePlugin.py:767: UserWarning: Possibly corrupt EXIF data.  Expecting to read 5 bytes but only got 0. Skipping tag 271\n",
            "  warnings.warn(\n",
            "/usr/local/lib/python3.8/dist-packages/PIL/TiffImagePlugin.py:767: UserWarning: Possibly corrupt EXIF data.  Expecting to read 8 bytes but only got 0. Skipping tag 272\n",
            "  warnings.warn(\n",
            "/usr/local/lib/python3.8/dist-packages/PIL/TiffImagePlugin.py:767: UserWarning: Possibly corrupt EXIF data.  Expecting to read 8 bytes but only got 0. Skipping tag 282\n",
            "  warnings.warn(\n",
            "/usr/local/lib/python3.8/dist-packages/PIL/TiffImagePlugin.py:767: UserWarning: Possibly corrupt EXIF data.  Expecting to read 8 bytes but only got 0. Skipping tag 283\n",
            "  warnings.warn(\n",
            "/usr/local/lib/python3.8/dist-packages/PIL/TiffImagePlugin.py:767: UserWarning: Possibly corrupt EXIF data.  Expecting to read 20 bytes but only got 0. Skipping tag 306\n",
            "  warnings.warn(\n",
            "/usr/local/lib/python3.8/dist-packages/PIL/TiffImagePlugin.py:767: UserWarning: Possibly corrupt EXIF data.  Expecting to read 48 bytes but only got 0. Skipping tag 532\n",
            "  warnings.warn(\n",
            "/usr/local/lib/python3.8/dist-packages/PIL/TiffImagePlugin.py:788: UserWarning: Corrupt EXIF data.  Expecting to read 2 bytes but only got 0. \n",
            "  warnings.warn(str(msg))\n"
          ]
        },
        {
          "output_type": "stream",
          "name": "stdout",
          "text": [
            "704/704 [==============================] - 85s 115ms/step - loss: 0.6445 - accuracy: 0.6445 - val_loss: 0.5251 - val_accuracy: 0.7504\n",
            "Epoch 2/15\n",
            "704/704 [==============================] - 81s 115ms/step - loss: 0.4814 - accuracy: 0.7758 - val_loss: 0.4502 - val_accuracy: 0.7948\n",
            "Epoch 3/15\n",
            "704/704 [==============================] - 78s 111ms/step - loss: 0.4117 - accuracy: 0.8141 - val_loss: 0.4000 - val_accuracy: 0.8228\n",
            "Epoch 4/15\n",
            "704/704 [==============================] - 78s 111ms/step - loss: 0.3638 - accuracy: 0.8463 - val_loss: 0.3979 - val_accuracy: 0.8216\n",
            "Epoch 5/15\n",
            "704/704 [==============================] - 78s 111ms/step - loss: 0.3226 - accuracy: 0.8655 - val_loss: 0.3941 - val_accuracy: 0.8324\n",
            "Epoch 6/15\n",
            "704/704 [==============================] - 79s 112ms/step - loss: 0.2847 - accuracy: 0.8867 - val_loss: 0.4640 - val_accuracy: 0.8396\n",
            "Epoch 7/15\n",
            "704/704 [==============================] - 78s 111ms/step - loss: 0.2668 - accuracy: 0.8984 - val_loss: 0.4575 - val_accuracy: 0.8492\n",
            "Epoch 8/15\n",
            "704/704 [==============================] - 78s 111ms/step - loss: 0.2389 - accuracy: 0.9087 - val_loss: 0.5248 - val_accuracy: 0.7576\n",
            "Epoch 9/15\n",
            "704/704 [==============================] - 80s 114ms/step - loss: 0.2351 - accuracy: 0.9139 - val_loss: 0.4218 - val_accuracy: 0.8376\n",
            "Epoch 10/15\n",
            "704/704 [==============================] - 80s 113ms/step - loss: 0.2079 - accuracy: 0.9227 - val_loss: 0.6757 - val_accuracy: 0.8504\n",
            "Epoch 11/15\n",
            "704/704 [==============================] - 78s 111ms/step - loss: 0.2140 - accuracy: 0.9229 - val_loss: 0.7021 - val_accuracy: 0.8456\n",
            "Epoch 12/15\n",
            "704/704 [==============================] - 78s 111ms/step - loss: 0.2116 - accuracy: 0.9265 - val_loss: 0.5718 - val_accuracy: 0.8064\n",
            "Epoch 13/15\n",
            "704/704 [==============================] - 80s 114ms/step - loss: 0.2144 - accuracy: 0.9246 - val_loss: 0.5424 - val_accuracy: 0.8300\n",
            "Epoch 14/15\n",
            "704/704 [==============================] - 76s 109ms/step - loss: 0.2153 - accuracy: 0.9278 - val_loss: 0.8658 - val_accuracy: 0.8276\n",
            "Epoch 15/15\n",
            "704/704 [==============================] - 76s 108ms/step - loss: 0.2233 - accuracy: 0.9244 - val_loss: 0.4917 - val_accuracy: 0.8080\n"
          ]
        }
      ]
    },
    {
      "cell_type": "code",
      "source": [
        "#-----------------------------------------------------------\n",
        "# Retrieve a list of list results on training and test data\n",
        "# sets for each training epoch\n",
        "#-----------------------------------------------------------\n",
        "acc=history.history['accuracy']\n",
        "val_acc=history.history['val_accuracy']\n",
        "loss=history.history['loss']\n",
        "val_loss=history.history['val_loss']\n",
        "\n",
        "epochs=range(len(acc)) # Get number of epochs\n",
        "\n",
        "#------------------------------------------------\n",
        "# Plot training and validation accuracy per epoch\n",
        "#------------------------------------------------\n",
        "plt.plot(epochs, acc, 'r', \"Training Accuracy\")\n",
        "plt.plot(epochs, val_acc, 'b', \"Validation Accuracy\")\n",
        "plt.title('Training and validation accuracy')\n",
        "plt.show()\n",
        "print(\"\")\n",
        "\n",
        "#------------------------------------------------\n",
        "# Plot training and validation loss per epoch\n",
        "#------------------------------------------------\n",
        "plt.plot(epochs, loss, 'r', \"Training Loss\")\n",
        "plt.plot(epochs, val_loss, 'b', \"Validation Loss\")\n",
        "plt.show()"
      ],
      "metadata": {
        "colab": {
          "base_uri": "https://localhost:8080/",
          "height": 547
        },
        "id": "fukEataXZ0LE",
        "outputId": "a2e7dee8-6fc2-4986-86fe-9c707fd9bb78"
      },
      "execution_count": null,
      "outputs": [
        {
          "output_type": "display_data",
          "data": {
            "text/plain": [
              "<Figure size 432x288 with 1 Axes>"
            ],
            "image/png": "[encoded data removed]"
          },
          "metadata": {
            "needs_background": "light"
          }
        },
        {
          "output_type": "stream",
          "name": "stdout",
          "text": [
            "\n"
          ]
        },
        {
          "output_type": "display_data",
          "data": {
            "text/plain": [
              "<Figure size 432x288 with 1 Axes>"
            ],
            "image/png": "[encoded data removed]"
          },
          "metadata": {
            "needs_background": "light"
          }
        }
      ]
    },
    {
      "cell_type": "markdown",
      "source": [
        "###Tackle Overfitting with Data Augmentation\n",
        "\n"
      ],
      "metadata": {
        "id": "ZaihGDbBZzcG"
      }
    },
    {
      "cell_type": "code",
      "source": [
        "def new_train_val_generators(TRAINING_DIR, VALIDATION_DIR):\n",
        "  \"\"\"\n",
        "  Creates the training and validation data generators\n",
        "  \n",
        "  Args:\n",
        "    TRAINING_DIR (string): directory path containing the training images\n",
        "    VALIDATION_DIR (string): directory path containing the testing/validation images\n",
        "    \n",
        "  Returns:\n",
        "    train_generator, validation_generator - tuple containing the generators\n",
        "  \"\"\"\n",
        "\n",
        "  # Instantiate the ImageDataGenerator class (don't forget to set the arguments to augment the images)\n",
        "  train_datagen = ImageDataGenerator(rescale=1/255,\n",
        "                                     rotation_range=45,\n",
        "                                     width_shift_range=0.2,\n",
        "                                     height_shift_range=0.2,\n",
        "                                     shear_range=0.2,\n",
        "                                     zoom_range=0.2,\n",
        "                                     horizontal_flip=True,\n",
        "                                     fill_mode='nearest')\n",
        "\n",
        "  # Pass in the appropriate arguments to the flow_from_directory method\n",
        "  train_generator = train_datagen.flow_from_directory(directory=TRAINING_DIR,\n",
        "                                                      batch_size=32,\n",
        "                                                      class_mode='binary',\n",
        "                                                      target_size=(150, 150))\n",
        "\n",
        "  # Instantiate the ImageDataGenerator class\n",
        "  validation_datagen = ImageDataGenerator(rescale=1/255)\n",
        "\n",
        "  # Pass in the appropriate arguments to the flow_from_directory method\n",
        "  validation_generator = validation_datagen.flow_from_directory(directory=VALIDATION_DIR,\n",
        "                                                                batch_size=16,\n",
        "                                                                class_mode='binary',\n",
        "                                                                target_size=(150, 150))\n",
        "\n",
        "  return train_generator, validation_generator\n"
      ],
      "metadata": {
        "id": "ibzHzk69tV3z"
      },
      "execution_count": null,
      "outputs": []
    },
    {
      "cell_type": "code",
      "source": [
        "train_generator_1, validation_generator_1 = new_train_val_generators(TRAINING_DIR, VALIDATION_DIR)"
      ],
      "metadata": {
        "colab": {
          "base_uri": "https://localhost:8080/"
        },
        "id": "cmPimMGfuZIB",
        "outputId": "35601d5e-179e-4cf8-f8e0-2672ad2c0e26"
      },
      "execution_count": null,
      "outputs": [
        {
          "output_type": "stream",
          "name": "stdout",
          "text": [
            "Found 22498 images belonging to 2 classes.\n",
            "Found 2500 images belonging to 2 classes.\n"
          ]
        }
      ]
    },
    {
      "cell_type": "markdown",
      "source": [
        "Will use the same model as earlier"
      ],
      "metadata": {
        "id": "ROFKyTaoukB_"
      }
    },
    {
      "cell_type": "code",
      "source": [
        "# Get the untrained model\n",
        "new_model = create_model()\n",
        "\n",
        "# Train the model\n",
        "history = model.fit(train_generator_1,\n",
        "                    epochs=25,\n",
        "                    verbose=1,\n",
        "                    validation_data=validation_generator_1)\n"
      ],
      "metadata": {
        "colab": {
          "base_uri": "https://localhost:8080/"
        },
        "id": "ZwMmbnjounP1",
        "outputId": "c41e8409-f322-43a0-aeb1-6c417c85e5ea"
      },
      "execution_count": null,
      "outputs": [
        {
          "metadata": {
            "tags": null
          },
          "name": "stdout",
          "output_type": "stream",
          "text": [
            "Epoch 1/25\n",
            "398/704 [===============>..............] - ETA: 1:12 - loss: 0.6440 - accuracy: 0.6559"
          ]
        },
        {
          "metadata": {
            "tags": null
          },
          "name": "stderr",
          "output_type": "stream",
          "text": [
            "/usr/local/lib/python3.8/dist-packages/PIL/TiffImagePlugin.py:767: UserWarning: Possibly corrupt EXIF data.  Expecting to read 32 bytes but only got 0. Skipping tag 270\n",
            "  warnings.warn(\n",
            "/usr/local/lib/python3.8/dist-packages/PIL/TiffImagePlugin.py:767: UserWarning: Possibly corrupt EXIF data.  Expecting to read 5 bytes but only got 0. Skipping tag 271\n",
            "  warnings.warn(\n",
            "/usr/local/lib/python3.8/dist-packages/PIL/TiffImagePlugin.py:767: UserWarning: Possibly corrupt EXIF data.  Expecting to read 8 bytes but only got 0. Skipping tag 272\n",
            "  warnings.warn(\n",
            "/usr/local/lib/python3.8/dist-packages/PIL/TiffImagePlugin.py:767: UserWarning: Possibly corrupt EXIF data.  Expecting to read 8 bytes but only got 0. Skipping tag 282\n",
            "  warnings.warn(\n",
            "/usr/local/lib/python3.8/dist-packages/PIL/TiffImagePlugin.py:767: UserWarning: Possibly corrupt EXIF data.  Expecting to read 8 bytes but only got 0. Skipping tag 283\n",
            "  warnings.warn(\n",
            "/usr/local/lib/python3.8/dist-packages/PIL/TiffImagePlugin.py:767: UserWarning: Possibly corrupt EXIF data.  Expecting to read 20 bytes but only got 0. Skipping tag 306\n",
            "  warnings.warn(\n",
            "/usr/local/lib/python3.8/dist-packages/PIL/TiffImagePlugin.py:767: UserWarning: Possibly corrupt EXIF data.  Expecting to read 48 bytes but only got 0. Skipping tag 532\n",
            "  warnings.warn(\n",
            "/usr/local/lib/python3.8/dist-packages/PIL/TiffImagePlugin.py:788: UserWarning: Corrupt EXIF data.  Expecting to read 2 bytes but only got 0. \n",
            "  warnings.warn(str(msg))\n"
          ]
        },
        {
          "output_type": "stream",
          "name": "stdout",
          "text": [
            "704/704 [==============================] - 171s 243ms/step - loss: 0.6249 - accuracy: 0.6770 - val_loss: 0.3869 - val_accuracy: 0.8344\n",
            "Epoch 2/25\n",
            "704/704 [==============================] - 170s 241ms/step - loss: 0.5664 - accuracy: 0.7286 - val_loss: 0.4601 - val_accuracy: 0.8104\n",
            "Epoch 3/25\n",
            "704/704 [==============================] - 173s 246ms/step - loss: 0.5380 - accuracy: 0.7459 - val_loss: 0.4302 - val_accuracy: 0.8384\n",
            "Epoch 4/25\n",
            "704/704 [==============================] - 171s 243ms/step - loss: 0.5138 - accuracy: 0.7573 - val_loss: 0.4278 - val_accuracy: 0.8376\n",
            "Epoch 5/25\n",
            "704/704 [==============================] - 171s 243ms/step - loss: 0.4928 - accuracy: 0.7719 - val_loss: 0.4778 - val_accuracy: 0.8060\n",
            "Epoch 6/25\n",
            "704/704 [==============================] - 173s 246ms/step - loss: 0.4812 - accuracy: 0.7796 - val_loss: 0.4636 - val_accuracy: 0.7772\n",
            "Epoch 7/25\n",
            "704/704 [==============================] - 170s 241ms/step - loss: 0.4812 - accuracy: 0.7793 - val_loss: 0.3559 - val_accuracy: 0.8600\n",
            "Epoch 8/25\n",
            "704/704 [==============================] - 167s 237ms/step - loss: 0.4898 - accuracy: 0.7866 - val_loss: 0.4705 - val_accuracy: 0.8244\n",
            "Epoch 9/25\n",
            "704/704 [==============================] - 172s 244ms/step - loss: 0.4640 - accuracy: 0.7922 - val_loss: 0.3530 - val_accuracy: 0.8596\n",
            "Epoch 10/25\n",
            "704/704 [==============================] - 170s 242ms/step - loss: 0.4550 - accuracy: 0.7968 - val_loss: 0.4805 - val_accuracy: 0.7764\n",
            "Epoch 11/25\n",
            "704/704 [==============================] - 169s 241ms/step - loss: 0.4457 - accuracy: 0.8004 - val_loss: 0.5721 - val_accuracy: 0.8332\n",
            "Epoch 12/25\n",
            "704/704 [==============================] - 170s 241ms/step - loss: 0.4429 - accuracy: 0.8020 - val_loss: 0.3296 - val_accuracy: 0.8724\n",
            "Epoch 13/25\n",
            "704/704 [==============================] - 168s 239ms/step - loss: 0.4347 - accuracy: 0.8052 - val_loss: 0.3311 - val_accuracy: 0.8632\n",
            "Epoch 14/25\n",
            "704/704 [==============================] - 168s 238ms/step - loss: 0.4434 - accuracy: 0.8063 - val_loss: 0.3283 - val_accuracy: 0.8688\n",
            "Epoch 15/25\n",
            "704/704 [==============================] - 170s 242ms/step - loss: 0.4294 - accuracy: 0.8090 - val_loss: 0.3209 - val_accuracy: 0.8784\n",
            "Epoch 16/25\n",
            "704/704 [==============================] - 170s 242ms/step - loss: 0.4308 - accuracy: 0.8121 - val_loss: 0.3900 - val_accuracy: 0.8504\n",
            "Epoch 17/25\n",
            "704/704 [==============================] - 169s 241ms/step - loss: 0.4267 - accuracy: 0.8136 - val_loss: 0.5369 - val_accuracy: 0.8012\n",
            "Epoch 18/25\n",
            "704/704 [==============================] - 168s 238ms/step - loss: 0.4320 - accuracy: 0.8165 - val_loss: 0.3268 - val_accuracy: 0.8756\n",
            "Epoch 19/25\n",
            "704/704 [==============================] - 172s 244ms/step - loss: 0.4428 - accuracy: 0.8195 - val_loss: 1.4303 - val_accuracy: 0.6920\n",
            "Epoch 20/25\n",
            "704/704 [==============================] - 170s 241ms/step - loss: 0.4192 - accuracy: 0.8169 - val_loss: 0.3570 - val_accuracy: 0.8728\n",
            "Epoch 21/25\n",
            "704/704 [==============================] - 169s 241ms/step - loss: 0.4196 - accuracy: 0.8199 - val_loss: 0.5625 - val_accuracy: 0.7936\n",
            "Epoch 22/25\n",
            "704/704 [==============================] - 168s 239ms/step - loss: 0.4235 - accuracy: 0.8200 - val_loss: 0.3944 - val_accuracy: 0.8548\n",
            "Epoch 23/25\n",
            "704/704 [==============================] - 169s 239ms/step - loss: 0.4600 - accuracy: 0.8233 - val_loss: 0.3105 - val_accuracy: 0.8816\n",
            "Epoch 24/25\n",
            "704/704 [==============================] - 168s 238ms/step - loss: 0.4092 - accuracy: 0.8210 - val_loss: 0.4314 - val_accuracy: 0.8364\n",
            "Epoch 25/25\n",
            "704/704 [==============================] - 167s 237ms/step - loss: 0.4087 - accuracy: 0.8249 - val_loss: 0.4405 - val_accuracy: 0.8312\n"
          ]
        }
      ]
    },
    {
      "cell_type": "code",
      "source": [
        "#-----------------------------------------------------------\n",
        "# Retrieve a list of list results on training and test data\n",
        "# sets for each training epoch\n",
        "#-----------------------------------------------------------\n",
        "acc=history.history['accuracy']\n",
        "val_acc=history.history['val_accuracy']\n",
        "loss=history.history['loss']\n",
        "val_loss=history.history['val_loss']\n",
        "\n",
        "epochs=range(len(acc)) # Get number of epochs\n",
        "\n",
        "#------------------------------------------------\n",
        "# Plot training and validation accuracy per epoch\n",
        "#------------------------------------------------\n",
        "plt.plot(epochs, acc, 'r', \"Training Accuracy\")\n",
        "plt.plot(epochs, val_acc, 'b', \"Validation Accuracy\")\n",
        "plt.title('Training and validation accuracy')\n",
        "plt.show()\n",
        "print(\"\")\n",
        "\n",
        "#------------------------------------------------\n",
        "# Plot training and validation loss per epoch\n",
        "#------------------------------------------------\n",
        "plt.plot(epochs, loss, 'r', \"Training Loss\")\n",
        "plt.plot(epochs, val_loss, 'b', \"Validation Loss\")\n",
        "plt.show()"
      ],
      "metadata": {
        "colab": {
          "base_uri": "https://localhost:8080/",
          "height": 547
        },
        "id": "zG2s3J4Cu8fV",
        "outputId": "fddf24e9-471b-4f42-8254-b733d098d105"
      },
      "execution_count": null,
      "outputs": [
        {
          "output_type": "display_data",
          "data": {
            "text/plain": [
              "<Figure size 432x288 with 1 Axes>"
            ],
            "image/png": "[encoded data removed]"
          },
          "metadata": {
            "needs_background": "light"
          }
        },
        {
          "output_type": "stream",
          "name": "stdout",
          "text": [
            "\n"
          ]
        },
        {
          "output_type": "display_data",
          "data": {
            "text/plain": [
              "<Figure size 432x288 with 1 Axes>"
            ],
            "image/png": "[encoded data removed]"
          },
          "metadata": {
            "needs_background": "light"
          }
        }
      ]
    },
    {
      "cell_type": "markdown",
      "source": [
        "By using Data Augmentation, able to increase validation accuracy from 80% to 83%. Data Augmentation help reducing overfitting and makes the model more robust."
      ],
      "metadata": {
        "id": "CKgGIhC_WESm"
      }
    }
  ]
}